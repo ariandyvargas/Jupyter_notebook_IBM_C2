{
 "cells": [
  {
   "cell_type": "markdown",
   "id": "33375d0f",
   "metadata": {},
   "source": [
    "# Data Science Ecosystem\n"
   ]
  },
  {
   "cell_type": "markdown",
   "id": "87278b0d",
   "metadata": {},
   "source": [
    "## Introduction\n",
    "\n",
    "In this notebook, the Data Science Tools and Ecosystem are summarized, including some of the essential tools commonly used in the daily work of a Data Scientist."
   ]
  },
  {
   "cell_type": "markdown",
   "id": "80665158",
   "metadata": {},
   "source": [
    "**Objetives**\n",
    "\n",
    "* Languages of Data Science\n",
    "* Libraries of Data Science\n",
    "* Open-Sources tools for Data Science\n",
    "* Jupyter Notebook\n",
    "* Git Hub"
   ]
  },
  {
   "cell_type": "markdown",
   "id": "6950f08f",
   "metadata": {},
   "source": [
    "Some of the popular languages that Data Scientists use are:\n",
    "1. Python\n",
    "2. R\n",
    "3. Julia"
   ]
  },
  {
   "cell_type": "markdown",
   "id": "8a32fb08",
   "metadata": {},
   "source": [
    "Some of the commonly used libraries used by Data Scientists include:\n",
    "1. In Python:\n",
    "    * Pandas\n",
    "    * Numpy\n",
    "    * Matplotlib\n",
    "2. In R:\n",
    "    * ggplot2\n",
    "    * dplyr\n",
    "    * caret\n",
    "3. In Julia:\n",
    "    * DataFrames.jl\n",
    "    * CSV.jl\n",
    "    * Flux.jl"
   ]
  },
  {
   "cell_type": "markdown",
   "id": "bfc2c3cd",
   "metadata": {},
   "source": [
    "| Open-Sources Tools for Data Science Tools |\n",
    "| ----------------------------------------- |\n",
    "| MySQL |\n",
    "| Apache AirFlow |\n",
    "| Apache Superset |"
   ]
  },
  {
   "cell_type": "markdown",
   "id": "025d27e3",
   "metadata": {},
   "source": [
    "### Below are a few examples of evaluating arithmetic expressions in Python."
   ]
  },
  {
   "cell_type": "code",
   "execution_count": 1,
   "id": "2390a7d8",
   "metadata": {},
   "outputs": [
    {
     "data": {
      "text/plain": [
       "17"
      ]
     },
     "execution_count": 1,
     "metadata": {},
     "output_type": "execute_result"
    }
   ],
   "source": [
    "(3 * 4) + 5\n",
    "# simple arithmetic expression to mutiply then add integers. "
   ]
  },
  {
   "cell_type": "code",
   "execution_count": 4,
   "id": "20b05b3a",
   "metadata": {},
   "outputs": [
    {
     "name": "stdout",
     "output_type": "stream",
     "text": [
      "3.3333333333333335\n"
     ]
    }
   ],
   "source": [
    "# Convert minute to hours\n",
    "\n",
    "minutes = 200\n",
    "\n",
    "minutes_to_hours = minutes / 60\n",
    "\n",
    "print(minutes_to_hours)"
   ]
  },
  {
   "cell_type": "markdown",
   "id": "05c39cf7",
   "metadata": {},
   "source": [
    "## Author\n",
    "\n",
    "<a href=\"www.linkedin.com/in/ariandy-vargas-30b59b186\"> Ariandy Vargas</a>"
   ]
  }
 ],
 "metadata": {
  "kernelspec": {
   "display_name": "Python 3 (ipykernel)",
   "language": "python",
   "name": "python3"
  },
  "language_info": {
   "codemirror_mode": {
    "name": "ipython",
    "version": 3
   },
   "file_extension": ".py",
   "mimetype": "text/x-python",
   "name": "python",
   "nbconvert_exporter": "python",
   "pygments_lexer": "ipython3",
   "version": "3.11.5"
  }
 },
 "nbformat": 4,
 "nbformat_minor": 5
}
